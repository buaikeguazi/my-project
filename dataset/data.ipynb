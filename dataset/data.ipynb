{
 "cells": [
  {
   "cell_type": "code",
   "execution_count": null,
   "metadata": {},
   "outputs": [
    {
     "name": "stdout",
     "output_type": "stream",
     "text": [
      "Dataset split completed successfully.\n"
     ]
    }
   ],
   "source": [
    "import os\n",
    "import pandas as pd\n",
    "import shutil\n",
    "from sklearn.model_selection import train_test_split\n",
    "\n",
    "# Paths\n",
    "data_dir = r\"D:\\A\\data\\train_images\"\n",
    "small_data_dir = data_dir \n",
    "output_dir = os.path.join(data_dir, \"dataset\")\n",
    "train_dir = os.path.join(output_dir, \"train\")\n",
    "test_dir = os.path.join(output_dir, \"test\")\n",
    "# Corrected CSV file path\n",
    "train_csv = r\"D:\\A\\data\\train.csv\"  \n",
    "\n",
    "# Create directories for train and test if they don't exist\n",
    "os.makedirs(train_dir, exist_ok=True)\n",
    "os.makedirs(test_dir, exist_ok=True)\n",
    "\n",
    "# Read CSV file\n",
    "df = pd.read_csv(train_csv)\n",
    "\n",
    "# Only consider images in small_data_dir\n",
    "small_data_images = os.listdir(small_data_dir)\n",
    "id_codes = [os.path.splitext(img)[0] for img in small_data_images]\n",
    "filtered_df = df[df['id_code'].isin(id_codes)]\n",
    "\n",
    "# Split the data into 90% train and 10% test\n",
    "train_df, test_df = train_test_split(filtered_df, test_size=0.1, random_state=47)\n",
    "\n",
    "# Mapping for labels\n",
    "label_mapping = {\n",
    "    0: \"0-No DR\",\n",
    "    1: \"1-Mild\",\n",
    "    2: \"2-Moderate\",\n",
    "    3: \"3-Severe\",\n",
    "    4: \"4-Proliferative DR\"\n",
    "}\n",
    "\n",
    "# Function to move images to corresponding label directories\n",
    "def move_images(dataframe, source_dir, dest_dir):\n",
    "    for _, row in dataframe.iterrows():\n",
    "        img_id, label = row['id_code'], row['diagnosis']\n",
    "        label_name = label_mapping[label]\n",
    "        label_dir = os.path.join(dest_dir, label_name)\n",
    "        os.makedirs(label_dir, exist_ok=True)\n",
    "        source_path = os.path.join(source_dir, f\"{img_id}.png\")\n",
    "        dest_path = os.path.join(label_dir, f\"{img_id}.png\")\n",
    "        if os.path.exists(source_path):\n",
    "            shutil.copy(source_path, dest_path)\n",
    "\n",
    "# Move train images\n",
    "move_images(train_df, small_data_dir, train_dir)\n",
    "\n",
    "# Move test images\n",
    "move_images(test_df, small_data_dir, test_dir)\n",
    "\n",
    "print(\"Dataset split completed successfully.\")\n"
   ]
  }
 ],
 "metadata": {
  "kernelspec": {
   "display_name": "myenv",
   "language": "python",
   "name": "python3"
  },
  "language_info": {
   "codemirror_mode": {
    "name": "ipython",
    "version": 3
   },
   "file_extension": ".py",
   "mimetype": "text/x-python",
   "name": "python",
   "nbconvert_exporter": "python",
   "pygments_lexer": "ipython3",
   "version": "3.7.1"
  }
 },
 "nbformat": 4,
 "nbformat_minor": 2
}
